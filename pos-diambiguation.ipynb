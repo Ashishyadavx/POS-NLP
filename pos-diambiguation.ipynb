{
 "cells": [
  {
   "cell_type": "code",
   "execution_count": 1,
   "id": "10c519fe",
   "metadata": {},
   "outputs": [],
   "source": [
    "import spacy"
   ]
  },
  {
   "cell_type": "code",
   "execution_count": 6,
   "id": "b7f822db",
   "metadata": {},
   "outputs": [],
   "source": [
    "nlp=spacy.load('en_core_web_sm')"
   ]
  },
  {
   "cell_type": "code",
   "execution_count": 5,
   "id": "b4a29c98",
   "metadata": {},
   "outputs": [
    {
     "name": "stdout",
     "output_type": "stream",
     "text": [
      "Collecting en-core-web-sm==3.6.0\n",
      "  Downloading https://github.com/explosion/spacy-models/releases/download/en_core_web_sm-3.6.0/en_core_web_sm-3.6.0-py3-none-any.whl (12.8 MB)\n",
      "     ---------------------------------------- 12.8/12.8 MB 5.4 MB/s eta 0:00:00\n",
      "Requirement already satisfied: spacy<3.7.0,>=3.6.0 in c:\\users\\rohit yadav\\anaconda3\\lib\\site-packages (from en-core-web-sm==3.6.0) (3.6.0)\n",
      "Requirement already satisfied: smart-open<7.0.0,>=5.2.1 in c:\\users\\rohit yadav\\anaconda3\\lib\\site-packages (from spacy<3.7.0,>=3.6.0->en-core-web-sm==3.6.0) (5.2.1)\n",
      "Requirement already satisfied: typer<0.10.0,>=0.3.0 in c:\\users\\rohit yadav\\anaconda3\\lib\\site-packages (from spacy<3.7.0,>=3.6.0->en-core-web-sm==3.6.0) (0.9.0)\n",
      "Requirement already satisfied: catalogue<2.1.0,>=2.0.6 in c:\\users\\rohit yadav\\anaconda3\\lib\\site-packages (from spacy<3.7.0,>=3.6.0->en-core-web-sm==3.6.0) (2.0.9)\n",
      "Requirement already satisfied: langcodes<4.0.0,>=3.2.0 in c:\\users\\rohit yadav\\anaconda3\\lib\\site-packages (from spacy<3.7.0,>=3.6.0->en-core-web-sm==3.6.0) (3.3.0)\n",
      "Requirement already satisfied: wasabi<1.2.0,>=0.9.1 in c:\\users\\rohit yadav\\anaconda3\\lib\\site-packages (from spacy<3.7.0,>=3.6.0->en-core-web-sm==3.6.0) (1.1.2)\n",
      "Requirement already satisfied: pathy>=0.10.0 in c:\\users\\rohit yadav\\anaconda3\\lib\\site-packages (from spacy<3.7.0,>=3.6.0->en-core-web-sm==3.6.0) (0.10.2)\n",
      "Requirement already satisfied: cymem<2.1.0,>=2.0.2 in c:\\users\\rohit yadav\\anaconda3\\lib\\site-packages (from spacy<3.7.0,>=3.6.0->en-core-web-sm==3.6.0) (2.0.7)\n",
      "Requirement already satisfied: spacy-loggers<2.0.0,>=1.0.0 in c:\\users\\rohit yadav\\anaconda3\\lib\\site-packages (from spacy<3.7.0,>=3.6.0->en-core-web-sm==3.6.0) (1.0.4)\n",
      "Requirement already satisfied: numpy>=1.15.0 in c:\\users\\rohit yadav\\anaconda3\\lib\\site-packages (from spacy<3.7.0,>=3.6.0->en-core-web-sm==3.6.0) (1.24.3)\n",
      "Requirement already satisfied: setuptools in c:\\users\\rohit yadav\\anaconda3\\lib\\site-packages (from spacy<3.7.0,>=3.6.0->en-core-web-sm==3.6.0) (63.4.1)\n",
      "Requirement already satisfied: preshed<3.1.0,>=3.0.2 in c:\\users\\rohit yadav\\anaconda3\\lib\\site-packages (from spacy<3.7.0,>=3.6.0->en-core-web-sm==3.6.0) (3.0.8)\n",
      "Requirement already satisfied: requests<3.0.0,>=2.13.0 in c:\\users\\rohit yadav\\anaconda3\\lib\\site-packages (from spacy<3.7.0,>=3.6.0->en-core-web-sm==3.6.0) (2.28.1)\n",
      "Requirement already satisfied: packaging>=20.0 in c:\\users\\rohit yadav\\anaconda3\\lib\\site-packages (from spacy<3.7.0,>=3.6.0->en-core-web-sm==3.6.0) (21.3)\n",
      "Requirement already satisfied: jinja2 in c:\\users\\rohit yadav\\anaconda3\\lib\\site-packages (from spacy<3.7.0,>=3.6.0->en-core-web-sm==3.6.0) (2.11.3)\n",
      "Requirement already satisfied: pydantic!=1.8,!=1.8.1,<1.11.0,>=1.7.4 in c:\\users\\rohit yadav\\anaconda3\\lib\\site-packages (from spacy<3.7.0,>=3.6.0->en-core-web-sm==3.6.0) (1.10.12)\n",
      "Requirement already satisfied: spacy-legacy<3.1.0,>=3.0.11 in c:\\users\\rohit yadav\\anaconda3\\lib\\site-packages (from spacy<3.7.0,>=3.6.0->en-core-web-sm==3.6.0) (3.0.12)\n",
      "Requirement already satisfied: thinc<8.2.0,>=8.1.8 in c:\\users\\rohit yadav\\anaconda3\\lib\\site-packages (from spacy<3.7.0,>=3.6.0->en-core-web-sm==3.6.0) (8.1.10)\n",
      "Requirement already satisfied: tqdm<5.0.0,>=4.38.0 in c:\\users\\rohit yadav\\anaconda3\\lib\\site-packages (from spacy<3.7.0,>=3.6.0->en-core-web-sm==3.6.0) (4.64.1)\n",
      "Requirement already satisfied: srsly<3.0.0,>=2.4.3 in c:\\users\\rohit yadav\\anaconda3\\lib\\site-packages (from spacy<3.7.0,>=3.6.0->en-core-web-sm==3.6.0) (2.4.7)\n",
      "Requirement already satisfied: murmurhash<1.1.0,>=0.28.0 in c:\\users\\rohit yadav\\anaconda3\\lib\\site-packages (from spacy<3.7.0,>=3.6.0->en-core-web-sm==3.6.0) (1.0.9)\n",
      "Requirement already satisfied: pyparsing!=3.0.5,>=2.0.2 in c:\\users\\rohit yadav\\anaconda3\\lib\\site-packages (from packaging>=20.0->spacy<3.7.0,>=3.6.0->en-core-web-sm==3.6.0) (3.0.9)\n",
      "Requirement already satisfied: typing-extensions>=4.2.0 in c:\\users\\rohit yadav\\anaconda3\\lib\\site-packages (from pydantic!=1.8,!=1.8.1,<1.11.0,>=1.7.4->spacy<3.7.0,>=3.6.0->en-core-web-sm==3.6.0) (4.7.1)\n",
      "Requirement already satisfied: certifi>=2017.4.17 in c:\\users\\rohit yadav\\anaconda3\\lib\\site-packages (from requests<3.0.0,>=2.13.0->spacy<3.7.0,>=3.6.0->en-core-web-sm==3.6.0) (2022.9.14)\n",
      "Requirement already satisfied: charset-normalizer<3,>=2 in c:\\users\\rohit yadav\\anaconda3\\lib\\site-packages (from requests<3.0.0,>=2.13.0->spacy<3.7.0,>=3.6.0->en-core-web-sm==3.6.0) (2.0.4)\n",
      "Requirement already satisfied: idna<4,>=2.5 in c:\\users\\rohit yadav\\anaconda3\\lib\\site-packages (from requests<3.0.0,>=2.13.0->spacy<3.7.0,>=3.6.0->en-core-web-sm==3.6.0) (2.10)\n",
      "Requirement already satisfied: urllib3<1.27,>=1.21.1 in c:\\users\\rohit yadav\\anaconda3\\lib\\site-packages (from requests<3.0.0,>=2.13.0->spacy<3.7.0,>=3.6.0->en-core-web-sm==3.6.0) (1.26.11)\n",
      "Requirement already satisfied: blis<0.8.0,>=0.7.8 in c:\\users\\rohit yadav\\anaconda3\\lib\\site-packages (from thinc<8.2.0,>=8.1.8->spacy<3.7.0,>=3.6.0->en-core-web-sm==3.6.0) (0.7.10)\n",
      "Requirement already satisfied: confection<1.0.0,>=0.0.1 in c:\\users\\rohit yadav\\anaconda3\\lib\\site-packages (from thinc<8.2.0,>=8.1.8->spacy<3.7.0,>=3.6.0->en-core-web-sm==3.6.0) (0.1.0)\n",
      "Requirement already satisfied: colorama in c:\\users\\rohit yadav\\anaconda3\\lib\\site-packages (from tqdm<5.0.0,>=4.38.0->spacy<3.7.0,>=3.6.0->en-core-web-sm==3.6.0) (0.4.6)\n",
      "Requirement already satisfied: click<9.0.0,>=7.1.1 in c:\\users\\rohit yadav\\anaconda3\\lib\\site-packages (from typer<0.10.0,>=0.3.0->spacy<3.7.0,>=3.6.0->en-core-web-sm==3.6.0) (8.1.6)\n",
      "Requirement already satisfied: MarkupSafe>=0.23 in c:\\users\\rohit yadav\\anaconda3\\lib\\site-packages (from jinja2->spacy<3.7.0,>=3.6.0->en-core-web-sm==3.6.0) (2.0.1)\n",
      "Installing collected packages: en-core-web-sm\n",
      "Successfully installed en-core-web-sm-3.6.0\n",
      "\u001b[38;5;2m[+] Download and installation successful\u001b[0m\n",
      "You can now load the package via spacy.load('en_core_web_sm')\n"
     ]
    }
   ],
   "source": [
    "!python -m spacy download en_core_web_sm"
   ]
  },
  {
   "cell_type": "code",
   "execution_count": 7,
   "id": "e35d63f1",
   "metadata": {},
   "outputs": [
    {
     "data": {
      "text/plain": [
       "'i will google about facebook'"
      ]
     },
     "execution_count": 7,
     "metadata": {},
     "output_type": "execute_result"
    }
   ],
   "source": [
    "doc=nlp(\"i will google about facebook\")\n",
    "doc.text"
   ]
  },
  {
   "cell_type": "code",
   "execution_count": 8,
   "id": "2549ba88",
   "metadata": {},
   "outputs": [
    {
     "data": {
      "text/plain": [
       "i"
      ]
     },
     "execution_count": 8,
     "metadata": {},
     "output_type": "execute_result"
    }
   ],
   "source": [
    "doc[0]"
   ]
  },
  {
   "cell_type": "code",
   "execution_count": 9,
   "id": "7fca1760",
   "metadata": {},
   "outputs": [
    {
     "data": {
      "text/plain": [
       "'PRON'"
      ]
     },
     "execution_count": 9,
     "metadata": {},
     "output_type": "execute_result"
    }
   ],
   "source": [
    "doc[0].pos_"
   ]
  },
  {
   "cell_type": "code",
   "execution_count": 10,
   "id": "5acc2d4e",
   "metadata": {},
   "outputs": [
    {
     "data": {
      "text/plain": [
       "'PRP'"
      ]
     },
     "execution_count": 10,
     "metadata": {},
     "output_type": "execute_result"
    }
   ],
   "source": [
    "doc[0].tag_"
   ]
  },
  {
   "cell_type": "code",
   "execution_count": 11,
   "id": "abd52871",
   "metadata": {},
   "outputs": [
    {
     "data": {
      "text/plain": [
       "'pronoun, personal'"
      ]
     },
     "execution_count": 11,
     "metadata": {},
     "output_type": "execute_result"
    }
   ],
   "source": [
    "spacy.explain('PRP')"
   ]
  },
  {
   "cell_type": "code",
   "execution_count": 13,
   "id": "7bbccb7f",
   "metadata": {},
   "outputs": [
    {
     "name": "stdout",
     "output_type": "stream",
     "text": [
      "i ---> PRON PRP pronoun, personal\n",
      "will ---> AUX MD verb, modal auxiliary\n",
      "google ---> VERB VB verb, base form\n",
      "about ---> ADP IN conjunction, subordinating or preposition\n",
      "facebook ---> NOUN NN noun, singular or mass\n"
     ]
    }
   ],
   "source": [
    "for word in doc:\n",
    "    print(word.text,\"--->\",word.pos_,word.tag_,spacy.explain(word.tag_))\n",
    "    "
   ]
  },
  {
   "cell_type": "code",
   "execution_count": 14,
   "id": "2f571363",
   "metadata": {},
   "outputs": [],
   "source": [
    "from spacy import displacy\n"
   ]
  },
  {
   "cell_type": "code",
   "execution_count": 15,
   "id": "cb1435a4",
   "metadata": {},
   "outputs": [
    {
     "data": {
      "text/html": [
       "<span class=\"tex2jax_ignore\"><svg xmlns=\"http://www.w3.org/2000/svg\" xmlns:xlink=\"http://www.w3.org/1999/xlink\" xml:lang=\"en\" id=\"f2ad18e69c2a4844963501782db37f03-0\" class=\"displacy\" width=\"925\" height=\"312.0\" direction=\"ltr\" style=\"max-width: none; height: 312.0px; color: #000000; background: #ffffff; font-family: Arial; direction: ltr\">\n",
       "<text class=\"displacy-token\" fill=\"currentColor\" text-anchor=\"middle\" y=\"222.0\">\n",
       "    <tspan class=\"displacy-word\" fill=\"currentColor\" x=\"50\">i</tspan>\n",
       "    <tspan class=\"displacy-tag\" dy=\"2em\" fill=\"currentColor\" x=\"50\">PRON</tspan>\n",
       "</text>\n",
       "\n",
       "<text class=\"displacy-token\" fill=\"currentColor\" text-anchor=\"middle\" y=\"222.0\">\n",
       "    <tspan class=\"displacy-word\" fill=\"currentColor\" x=\"225\">will</tspan>\n",
       "    <tspan class=\"displacy-tag\" dy=\"2em\" fill=\"currentColor\" x=\"225\">AUX</tspan>\n",
       "</text>\n",
       "\n",
       "<text class=\"displacy-token\" fill=\"currentColor\" text-anchor=\"middle\" y=\"222.0\">\n",
       "    <tspan class=\"displacy-word\" fill=\"currentColor\" x=\"400\">google</tspan>\n",
       "    <tspan class=\"displacy-tag\" dy=\"2em\" fill=\"currentColor\" x=\"400\">VERB</tspan>\n",
       "</text>\n",
       "\n",
       "<text class=\"displacy-token\" fill=\"currentColor\" text-anchor=\"middle\" y=\"222.0\">\n",
       "    <tspan class=\"displacy-word\" fill=\"currentColor\" x=\"575\">about</tspan>\n",
       "    <tspan class=\"displacy-tag\" dy=\"2em\" fill=\"currentColor\" x=\"575\">ADP</tspan>\n",
       "</text>\n",
       "\n",
       "<text class=\"displacy-token\" fill=\"currentColor\" text-anchor=\"middle\" y=\"222.0\">\n",
       "    <tspan class=\"displacy-word\" fill=\"currentColor\" x=\"750\">facebook</tspan>\n",
       "    <tspan class=\"displacy-tag\" dy=\"2em\" fill=\"currentColor\" x=\"750\">NOUN</tspan>\n",
       "</text>\n",
       "\n",
       "<g class=\"displacy-arrow\">\n",
       "    <path class=\"displacy-arc\" id=\"arrow-f2ad18e69c2a4844963501782db37f03-0-0\" stroke-width=\"2px\" d=\"M70,177.0 C70,2.0 400.0,2.0 400.0,177.0\" fill=\"none\" stroke=\"currentColor\"/>\n",
       "    <text dy=\"1.25em\" style=\"font-size: 0.8em; letter-spacing: 1px\">\n",
       "        <textPath xlink:href=\"#arrow-f2ad18e69c2a4844963501782db37f03-0-0\" class=\"displacy-label\" startOffset=\"50%\" side=\"left\" fill=\"currentColor\" text-anchor=\"middle\">nsubj</textPath>\n",
       "    </text>\n",
       "    <path class=\"displacy-arrowhead\" d=\"M70,179.0 L62,167.0 78,167.0\" fill=\"currentColor\"/>\n",
       "</g>\n",
       "\n",
       "<g class=\"displacy-arrow\">\n",
       "    <path class=\"displacy-arc\" id=\"arrow-f2ad18e69c2a4844963501782db37f03-0-1\" stroke-width=\"2px\" d=\"M245,177.0 C245,89.5 395.0,89.5 395.0,177.0\" fill=\"none\" stroke=\"currentColor\"/>\n",
       "    <text dy=\"1.25em\" style=\"font-size: 0.8em; letter-spacing: 1px\">\n",
       "        <textPath xlink:href=\"#arrow-f2ad18e69c2a4844963501782db37f03-0-1\" class=\"displacy-label\" startOffset=\"50%\" side=\"left\" fill=\"currentColor\" text-anchor=\"middle\">aux</textPath>\n",
       "    </text>\n",
       "    <path class=\"displacy-arrowhead\" d=\"M245,179.0 L237,167.0 253,167.0\" fill=\"currentColor\"/>\n",
       "</g>\n",
       "\n",
       "<g class=\"displacy-arrow\">\n",
       "    <path class=\"displacy-arc\" id=\"arrow-f2ad18e69c2a4844963501782db37f03-0-2\" stroke-width=\"2px\" d=\"M420,177.0 C420,89.5 570.0,89.5 570.0,177.0\" fill=\"none\" stroke=\"currentColor\"/>\n",
       "    <text dy=\"1.25em\" style=\"font-size: 0.8em; letter-spacing: 1px\">\n",
       "        <textPath xlink:href=\"#arrow-f2ad18e69c2a4844963501782db37f03-0-2\" class=\"displacy-label\" startOffset=\"50%\" side=\"left\" fill=\"currentColor\" text-anchor=\"middle\">prep</textPath>\n",
       "    </text>\n",
       "    <path class=\"displacy-arrowhead\" d=\"M570.0,179.0 L578.0,167.0 562.0,167.0\" fill=\"currentColor\"/>\n",
       "</g>\n",
       "\n",
       "<g class=\"displacy-arrow\">\n",
       "    <path class=\"displacy-arc\" id=\"arrow-f2ad18e69c2a4844963501782db37f03-0-3\" stroke-width=\"2px\" d=\"M595,177.0 C595,89.5 745.0,89.5 745.0,177.0\" fill=\"none\" stroke=\"currentColor\"/>\n",
       "    <text dy=\"1.25em\" style=\"font-size: 0.8em; letter-spacing: 1px\">\n",
       "        <textPath xlink:href=\"#arrow-f2ad18e69c2a4844963501782db37f03-0-3\" class=\"displacy-label\" startOffset=\"50%\" side=\"left\" fill=\"currentColor\" text-anchor=\"middle\">pobj</textPath>\n",
       "    </text>\n",
       "    <path class=\"displacy-arrowhead\" d=\"M745.0,179.0 L753.0,167.0 737.0,167.0\" fill=\"currentColor\"/>\n",
       "</g>\n",
       "</svg></span>"
      ],
      "text/plain": [
       "<IPython.core.display.HTML object>"
      ]
     },
     "metadata": {},
     "output_type": "display_data"
    }
   ],
   "source": [
    "displacy.render(doc,style='dep',jupyter=True)"
   ]
  },
  {
   "cell_type": "code",
   "execution_count": 16,
   "id": "5f276c7f",
   "metadata": {},
   "outputs": [],
   "source": [
    "import nltk\n",
    "from nltk.corpus import webtext\n"
   ]
  },
  {
   "cell_type": "code",
   "execution_count": 19,
   "id": "e8aada71",
   "metadata": {},
   "outputs": [
    {
     "name": "stderr",
     "output_type": "stream",
     "text": [
      "[nltk_data] Downloading package webtext to C:\\Users\\Rohit\n",
      "[nltk_data]     Yadav\\AppData\\Roaming\\nltk_data...\n",
      "[nltk_data]   Unzipping corpora\\webtext.zip.\n"
     ]
    },
    {
     "data": {
      "text/plain": [
       "True"
      ]
     },
     "execution_count": 19,
     "metadata": {},
     "output_type": "execute_result"
    }
   ],
   "source": [
    " nltk.download('webtext')"
   ]
  },
  {
   "cell_type": "code",
   "execution_count": 20,
   "id": "dc27031f",
   "metadata": {},
   "outputs": [
    {
     "data": {
      "text/plain": [
       "['firefox.txt',\n",
       " 'grail.txt',\n",
       " 'overheard.txt',\n",
       " 'pirates.txt',\n",
       " 'singles.txt',\n",
       " 'wine.txt']"
      ]
     },
     "execution_count": 20,
     "metadata": {},
     "output_type": "execute_result"
    }
   ],
   "source": [
    "webtext.fileids()"
   ]
  },
  {
   "cell_type": "code",
   "execution_count": 21,
   "id": "dc3348e2",
   "metadata": {},
   "outputs": [],
   "source": [
    "firefox=webtext.raw('firefox.txt')"
   ]
  },
  {
   "cell_type": "code",
   "execution_count": 23,
   "id": "8cd2aa36",
   "metadata": {},
   "outputs": [],
   "source": [
    "firefox=firefox[:500]"
   ]
  },
  {
   "cell_type": "code",
   "execution_count": 24,
   "id": "7bdcc2af",
   "metadata": {},
   "outputs": [
    {
     "data": {
      "text/plain": [
       "500"
      ]
     },
     "execution_count": 24,
     "metadata": {},
     "output_type": "execute_result"
    }
   ],
   "source": [
    "len(firefox)"
   ]
  },
  {
   "cell_type": "code",
   "execution_count": 25,
   "id": "710a77aa",
   "metadata": {},
   "outputs": [],
   "source": [
    "`import re\n",
    "from nltk.corpus import stopwords\n",
    "from nltk.stem.porter import PorterStemmer"
   ]
  },
  {
   "cell_type": "code",
   "execution_count": 34,
   "id": "48cbd783",
   "metadata": {},
   "outputs": [],
   "source": [
    "from nltk.tokenize import word_tokenize\n",
    "stop_words=set(stopwords.words('english'))\n",
    "from nltk.stem import WordNetLemmatizer\n",
    "lemmatizer=WordNetLemmatizer()\n"
   ]
  },
  {
   "cell_type": "code",
   "execution_count": 35,
   "id": "f2d87abe",
   "metadata": {},
   "outputs": [],
   "source": [
    "def preprocess(text):\n",
    "    text=re.sub('[^A-Za-z0-9]',' ',text)\n",
    "    text=re.sub('<.*?>',' ',text)\n",
    "    text=re.sub('http?://\\s+\\www\\.\\s+',' ',text)\n",
    "    text=text.lower()\n",
    "    text_tokens=word_tokenize(text)\n",
    "    text_filter= [word for word in text_tokens if not word in stop_words]\n",
    "    lemma_words=[lemmatizer.lemmatize(word) for word in text_filter]\n",
    "    lemma_text=' '.join(lemma_words)\n",
    "    return lemma_text"
   ]
  },
  {
   "cell_type": "code",
   "execution_count": 36,
   "id": "6cda4ae3",
   "metadata": {},
   "outputs": [
    {
     "data": {
      "text/plain": [
       "'cookie manager allow site set removed cooky set future cooky stay checked full screen mode pressing ctrl n open new browser download dialog left open add icon context menu called tab bar made proper toolbar given ability collapse expand xul implement cocoa style toolbar customization ifdefs moz phoenix customize dialog toolbar small icon small icon checked nightly build'"
      ]
     },
     "execution_count": 36,
     "metadata": {},
     "output_type": "execute_result"
    }
   ],
   "source": [
    "preprocess(firefox)"
   ]
  },
  {
   "cell_type": "code",
   "execution_count": 39,
   "id": "820db827",
   "metadata": {},
   "outputs": [],
   "source": [
    "docs = []\n",
    "count = 0\n",
    "for item in firefox:\n",
    "    docs.append(nlp(item))\n",
    "    count += 1\n",
    "sense_corpus = [[x.text+\"_\"+x.pos_ for x in y] for y in docs]"
   ]
  },
  {
   "cell_type": "code",
   "execution_count": 40,
   "id": "dbcf4a83",
   "metadata": {},
   "outputs": [
    {
     "data": {
      "text/plain": [
       "[['C_NOUN'],\n",
       " ['o_X'],\n",
       " ['o_X'],\n",
       " ['k_NOUN'],\n",
       " ['i_PRON'],\n",
       " ['e_X'],\n",
       " [' _SPACE'],\n",
       " ['M_NOUN'],\n",
       " ['a_PRON'],\n",
       " ['n_CCONJ'],\n",
       " ['a_PRON'],\n",
       " ['g_PROPN'],\n",
       " ['e_X'],\n",
       " ['r_X'],\n",
       " [':_PUNCT'],\n",
       " [' _SPACE'],\n",
       " ['\"_PUNCT'],\n",
       " ['D_PROPN'],\n",
       " ['o_X'],\n",
       " ['n_CCONJ'],\n",
       " [\"'_PUNCT\"],\n",
       " ['t_NOUN'],\n",
       " [' _SPACE'],\n",
       " ['a_PRON'],\n",
       " ['l_NOUN'],\n",
       " ['l_NOUN'],\n",
       " ['o_X'],\n",
       " ['w_PROPN'],\n",
       " [' _SPACE'],\n",
       " ['s_NOUN'],\n",
       " ['i_PRON'],\n",
       " ['t_NOUN'],\n",
       " ['e_X'],\n",
       " ['s_NOUN'],\n",
       " [' _SPACE'],\n",
       " ['t_NOUN'],\n",
       " ['h_NOUN'],\n",
       " ['a_PRON'],\n",
       " ['t_NOUN'],\n",
       " [' _SPACE'],\n",
       " ['s_NOUN'],\n",
       " ['e_X'],\n",
       " ['t_NOUN'],\n",
       " [' _SPACE'],\n",
       " ['r_X'],\n",
       " ['e_X'],\n",
       " ['m_VERB'],\n",
       " ['o_X'],\n",
       " ['v_X'],\n",
       " ['e_X'],\n",
       " ['d_X'],\n",
       " [' _SPACE'],\n",
       " ['c_NOUN'],\n",
       " ['o_X'],\n",
       " ['o_X'],\n",
       " ['k_NOUN'],\n",
       " ['i_PRON'],\n",
       " ['e_X'],\n",
       " ['s_NOUN'],\n",
       " [' _SPACE'],\n",
       " ['t_NOUN'],\n",
       " ['o_X'],\n",
       " [' _SPACE'],\n",
       " ['s_NOUN'],\n",
       " ['e_X'],\n",
       " ['t_NOUN'],\n",
       " [' _SPACE'],\n",
       " ['f_X'],\n",
       " ['u_NOUN'],\n",
       " ['t_NOUN'],\n",
       " ['u_NOUN'],\n",
       " ['r_X'],\n",
       " ['e_X'],\n",
       " [' _SPACE'],\n",
       " ['c_NOUN'],\n",
       " ['o_X'],\n",
       " ['o_X'],\n",
       " ['k_NOUN'],\n",
       " ['i_PRON'],\n",
       " ['e_X'],\n",
       " ['s_NOUN'],\n",
       " ['\"_PUNCT'],\n",
       " [' _SPACE'],\n",
       " ['s_NOUN'],\n",
       " ['h_NOUN'],\n",
       " ['o_X'],\n",
       " ['u_NOUN'],\n",
       " ['l_NOUN'],\n",
       " ['d_X'],\n",
       " [' _SPACE'],\n",
       " ['s_NOUN'],\n",
       " ['t_NOUN'],\n",
       " ['a_PRON'],\n",
       " ['y_PROPN'],\n",
       " [' _SPACE'],\n",
       " ['c_NOUN'],\n",
       " ['h_NOUN'],\n",
       " ['e_X'],\n",
       " ['c_NOUN'],\n",
       " ['k_NOUN'],\n",
       " ['e_X'],\n",
       " ['d_X'],\n",
       " ['\\r_SPACE'],\n",
       " ['\\n_SPACE'],\n",
       " ['W_NOUN'],\n",
       " ['h_NOUN'],\n",
       " ['e_X'],\n",
       " ['n_CCONJ'],\n",
       " [' _SPACE'],\n",
       " ['i_PRON'],\n",
       " ['n_CCONJ'],\n",
       " [' _SPACE'],\n",
       " ['f_X'],\n",
       " ['u_NOUN'],\n",
       " ['l_NOUN'],\n",
       " ['l_NOUN'],\n",
       " [' _SPACE'],\n",
       " ['s_NOUN'],\n",
       " ['c_NOUN'],\n",
       " ['r_X'],\n",
       " ['e_X'],\n",
       " ['e_X'],\n",
       " ['n_CCONJ'],\n",
       " [' _SPACE'],\n",
       " ['m_VERB'],\n",
       " ['o_X'],\n",
       " ['d_X'],\n",
       " ['e_X'],\n",
       " ['\\r_SPACE'],\n",
       " ['\\n_SPACE'],\n",
       " ['P_NOUN'],\n",
       " ['r_X'],\n",
       " ['e_X'],\n",
       " ['s_NOUN'],\n",
       " ['s_NOUN'],\n",
       " ['i_PRON'],\n",
       " ['n_CCONJ'],\n",
       " ['g_PROPN'],\n",
       " [' _SPACE'],\n",
       " ['C_NOUN'],\n",
       " ['t_NOUN'],\n",
       " ['r_X'],\n",
       " ['l_NOUN'],\n",
       " ['-_PUNCT'],\n",
       " ['N_NOUN'],\n",
       " [' _SPACE'],\n",
       " ['s_NOUN'],\n",
       " ['h_NOUN'],\n",
       " ['o_X'],\n",
       " ['u_NOUN'],\n",
       " ['l_NOUN'],\n",
       " ['d_X'],\n",
       " [' _SPACE'],\n",
       " ['o_X'],\n",
       " ['p_NOUN'],\n",
       " ['e_X'],\n",
       " ['n_CCONJ'],\n",
       " [' _SPACE'],\n",
       " ['a_PRON'],\n",
       " [' _SPACE'],\n",
       " ['n_CCONJ'],\n",
       " ['e_X'],\n",
       " ['w_PROPN'],\n",
       " [' _SPACE'],\n",
       " ['b_X'],\n",
       " ['r_X'],\n",
       " ['o_X'],\n",
       " ['w_PROPN'],\n",
       " ['s_NOUN'],\n",
       " ['e_X'],\n",
       " ['r_X'],\n",
       " [' _SPACE'],\n",
       " ['w_PROPN'],\n",
       " ['h_NOUN'],\n",
       " ['e_X'],\n",
       " ['n_CCONJ'],\n",
       " [' _SPACE'],\n",
       " ['o_X'],\n",
       " ['n_CCONJ'],\n",
       " ['l_NOUN'],\n",
       " ['y_PROPN'],\n",
       " [' _SPACE'],\n",
       " ['d_X'],\n",
       " ['o_X'],\n",
       " ['w_PROPN'],\n",
       " ['n_CCONJ'],\n",
       " ['l_NOUN'],\n",
       " ['o_X'],\n",
       " ['a_PRON'],\n",
       " ['d_X'],\n",
       " [' _SPACE'],\n",
       " ['d_X'],\n",
       " ['i_PRON'],\n",
       " ['a_PRON'],\n",
       " ['l_NOUN'],\n",
       " ['o_X'],\n",
       " ['g_PROPN'],\n",
       " [' _SPACE'],\n",
       " ['i_PRON'],\n",
       " ['s_NOUN'],\n",
       " [' _SPACE'],\n",
       " ['l_NOUN'],\n",
       " ['e_X'],\n",
       " ['f_X'],\n",
       " ['t_NOUN'],\n",
       " [' _SPACE'],\n",
       " ['o_X'],\n",
       " ['p_NOUN'],\n",
       " ['e_X'],\n",
       " ['n_CCONJ'],\n",
       " ['\\r_SPACE'],\n",
       " ['\\n_SPACE'],\n",
       " ['a_PRON'],\n",
       " ['d_X'],\n",
       " ['d_X'],\n",
       " [' _SPACE'],\n",
       " ['i_PRON'],\n",
       " ['c_NOUN'],\n",
       " ['o_X'],\n",
       " ['n_CCONJ'],\n",
       " ['s_NOUN'],\n",
       " [' _SPACE'],\n",
       " ['t_NOUN'],\n",
       " ['o_X'],\n",
       " [' _SPACE'],\n",
       " ['c_NOUN'],\n",
       " ['o_X'],\n",
       " ['n_CCONJ'],\n",
       " ['t_NOUN'],\n",
       " ['e_X'],\n",
       " ['x_VERB'],\n",
       " ['t_NOUN'],\n",
       " [' _SPACE'],\n",
       " ['m_VERB'],\n",
       " ['e_X'],\n",
       " ['n_CCONJ'],\n",
       " ['u_NOUN'],\n",
       " ['\\r_SPACE'],\n",
       " ['\\n_SPACE'],\n",
       " ['S_NOUN'],\n",
       " ['o_X'],\n",
       " [' _SPACE'],\n",
       " ['c_NOUN'],\n",
       " ['a_PRON'],\n",
       " ['l_NOUN'],\n",
       " ['l_NOUN'],\n",
       " ['e_X'],\n",
       " ['d_X'],\n",
       " [' _SPACE'],\n",
       " ['\"_PUNCT'],\n",
       " ['t_NOUN'],\n",
       " ['a_PRON'],\n",
       " ['b_X'],\n",
       " [' _SPACE'],\n",
       " ['b_X'],\n",
       " ['a_PRON'],\n",
       " ['r_X'],\n",
       " ['\"_PUNCT'],\n",
       " [' _SPACE'],\n",
       " ['s_NOUN'],\n",
       " ['h_NOUN'],\n",
       " ['o_X'],\n",
       " ['u_NOUN'],\n",
       " ['l_NOUN'],\n",
       " ['d_X'],\n",
       " [' _SPACE'],\n",
       " ['b_X'],\n",
       " ['e_X'],\n",
       " [' _SPACE'],\n",
       " ['m_VERB'],\n",
       " ['a_PRON'],\n",
       " ['d_X'],\n",
       " ['e_X'],\n",
       " [' _SPACE'],\n",
       " ['a_PRON'],\n",
       " [' _SPACE'],\n",
       " ['p_NOUN'],\n",
       " ['r_X'],\n",
       " ['o_X'],\n",
       " ['p_NOUN'],\n",
       " ['e_X'],\n",
       " ['r_X'],\n",
       " [' _SPACE'],\n",
       " ['t_NOUN'],\n",
       " ['o_X'],\n",
       " ['o_X'],\n",
       " ['l_NOUN'],\n",
       " ['b_X'],\n",
       " ['a_PRON'],\n",
       " ['r_X'],\n",
       " [' _SPACE'],\n",
       " ['o_X'],\n",
       " ['r_X'],\n",
       " [' _SPACE'],\n",
       " ['g_PROPN'],\n",
       " ['i_PRON'],\n",
       " ['v_X'],\n",
       " ['e_X'],\n",
       " ['n_CCONJ'],\n",
       " [' _SPACE'],\n",
       " ['t_NOUN'],\n",
       " ['h_NOUN'],\n",
       " ['e_X'],\n",
       " [' _SPACE'],\n",
       " ['a_PRON'],\n",
       " ['b_X'],\n",
       " ['i_PRON'],\n",
       " ['l_NOUN'],\n",
       " ['i_PRON'],\n",
       " ['t_NOUN'],\n",
       " ['y_PROPN'],\n",
       " [' _SPACE'],\n",
       " ['c_NOUN'],\n",
       " ['o_X'],\n",
       " ['l_NOUN'],\n",
       " ['l_NOUN'],\n",
       " ['a_PRON'],\n",
       " ['p_NOUN'],\n",
       " ['s_NOUN'],\n",
       " ['e_X'],\n",
       " [' _SPACE'],\n",
       " ['/_PUNCT'],\n",
       " [' _SPACE'],\n",
       " ['e_X'],\n",
       " ['x_VERB'],\n",
       " ['p_NOUN'],\n",
       " ['a_PRON'],\n",
       " ['n_CCONJ'],\n",
       " ['d_X'],\n",
       " ['._PUNCT'],\n",
       " ['\\r_SPACE'],\n",
       " ['\\n_SPACE'],\n",
       " ['[_X'],\n",
       " ['X_NOUN'],\n",
       " ['U_NOUN'],\n",
       " ['L_NOUN'],\n",
       " [']_PUNCT'],\n",
       " [' _SPACE'],\n",
       " ['I_PRON'],\n",
       " ['m_VERB'],\n",
       " ['p_NOUN'],\n",
       " ['l_NOUN'],\n",
       " ['e_X'],\n",
       " ['m_VERB'],\n",
       " ['e_X'],\n",
       " ['n_CCONJ'],\n",
       " ['t_NOUN'],\n",
       " [' _SPACE'],\n",
       " ['C_NOUN'],\n",
       " ['o_X'],\n",
       " ['c_NOUN'],\n",
       " ['o_X'],\n",
       " ['a_PRON'],\n",
       " ['-_PUNCT'],\n",
       " ['s_NOUN'],\n",
       " ['t_NOUN'],\n",
       " ['y_PROPN'],\n",
       " ['l_NOUN'],\n",
       " ['e_X'],\n",
       " [' _SPACE'],\n",
       " ['t_NOUN'],\n",
       " ['o_X'],\n",
       " ['o_X'],\n",
       " ['l_NOUN'],\n",
       " ['b_X'],\n",
       " ['a_PRON'],\n",
       " ['r_X'],\n",
       " [' _SPACE'],\n",
       " ['c_NOUN'],\n",
       " ['u_NOUN'],\n",
       " ['s_NOUN'],\n",
       " ['t_NOUN'],\n",
       " ['o_X'],\n",
       " ['m_VERB'],\n",
       " ['i_PRON'],\n",
       " ['z_X'],\n",
       " ['a_PRON'],\n",
       " ['t_NOUN'],\n",
       " ['i_PRON'],\n",
       " ['o_X'],\n",
       " ['n_CCONJ'],\n",
       " ['._PUNCT'],\n",
       " ['\\r_SPACE'],\n",
       " ['\\n_SPACE'],\n",
       " ['#_SYM'],\n",
       " ['i_PRON'],\n",
       " ['f_X'],\n",
       " ['d_X'],\n",
       " ['e_X'],\n",
       " ['f_X'],\n",
       " ['s_NOUN'],\n",
       " [' _SPACE'],\n",
       " ['f_X'],\n",
       " ['o_X'],\n",
       " ['r_X'],\n",
       " [' _SPACE'],\n",
       " ['M_NOUN'],\n",
       " ['O_INTJ'],\n",
       " ['Z_PROPN'],\n",
       " ['__PUNCT'],\n",
       " ['P_NOUN'],\n",
       " ['H_NOUN'],\n",
       " ['O_INTJ'],\n",
       " ['E_NOUN'],\n",
       " ['N_NOUN'],\n",
       " ['I_PRON'],\n",
       " ['X_NOUN'],\n",
       " ['\\r_SPACE'],\n",
       " ['\\n_SPACE'],\n",
       " ['c_NOUN'],\n",
       " ['u_NOUN'],\n",
       " ['s_NOUN'],\n",
       " ['t_NOUN'],\n",
       " ['o_X'],\n",
       " ['m_VERB'],\n",
       " ['i_PRON'],\n",
       " ['z_X'],\n",
       " ['e_X'],\n",
       " [' _SPACE'],\n",
       " ['d_X'],\n",
       " ['i_PRON'],\n",
       " ['a_PRON'],\n",
       " ['l_NOUN'],\n",
       " ['o_X'],\n",
       " ['g_PROPN'],\n",
       " [\"'_PUNCT\"],\n",
       " ['s_NOUN'],\n",
       " [' _SPACE'],\n",
       " ['t_NOUN'],\n",
       " ['o_X'],\n",
       " ['o_X'],\n",
       " ['l_NOUN'],\n",
       " ['b_X'],\n",
       " ['a_PRON'],\n",
       " ['r_X'],\n",
       " [' _SPACE'],\n",
       " ['h_NOUN'],\n",
       " ['a_PRON'],\n",
       " ['s_NOUN'],\n",
       " [' _SPACE'],\n",
       " ['s_NOUN'],\n",
       " ['m_VERB'],\n",
       " ['a_PRON'],\n",
       " ['l_NOUN'],\n",
       " ['l_NOUN'],\n",
       " [' _SPACE'],\n",
       " ['i_PRON'],\n",
       " ['c_NOUN'],\n",
       " ['o_X'],\n",
       " ['n_CCONJ'],\n",
       " ['s_NOUN'],\n",
       " [' _SPACE'],\n",
       " ['w_PROPN'],\n",
       " ['h_NOUN'],\n",
       " ['e_X'],\n",
       " ['n_CCONJ'],\n",
       " [' _SPACE'],\n",
       " ['s_NOUN'],\n",
       " ['m_VERB'],\n",
       " ['a_PRON'],\n",
       " ['l_NOUN'],\n",
       " ['l_NOUN'],\n",
       " [' _SPACE'],\n",
       " ['i_PRON'],\n",
       " ['c_NOUN'],\n",
       " ['o_X'],\n",
       " ['n_CCONJ'],\n",
       " ['s_NOUN'],\n",
       " [' _SPACE'],\n",
       " ['i_PRON'],\n",
       " ['s_NOUN'],\n",
       " [' _SPACE'],\n",
       " ['n_CCONJ'],\n",
       " ['o_X'],\n",
       " ['t_NOUN'],\n",
       " [' _SPACE'],\n",
       " ['c_NOUN'],\n",
       " ['h_NOUN'],\n",
       " ['e_X'],\n",
       " ['c_NOUN'],\n",
       " ['k_NOUN'],\n",
       " ['e_X'],\n",
       " ['d_X'],\n",
       " ['\\r_SPACE'],\n",
       " ['\\n_SPACE'],\n",
       " ['n_CCONJ'],\n",
       " ['i_PRON'],\n",
       " ['g_PROPN'],\n",
       " ['h_NOUN'],\n",
       " ['t_NOUN'],\n",
       " ['l_NOUN'],\n",
       " ['y_PROPN'],\n",
       " [' _SPACE'],\n",
       " ['b_X'],\n",
       " ['u_NOUN'],\n",
       " ['i_PRON'],\n",
       " ['l_NOUN'],\n",
       " ['d_X'],\n",
       " ['s_NOUN'],\n",
       " [' _SPACE']]"
      ]
     },
     "execution_count": 40,
     "metadata": {},
     "output_type": "execute_result"
    }
   ],
   "source": [
    "sense_corpus"
   ]
  },
  {
   "cell_type": "code",
   "execution_count": 43,
   "id": "709fcd0f",
   "metadata": {},
   "outputs": [],
   "source": [
    "from gensim.models import Word2Vec\n",
    "model_skipgram = Word2Vec(sense_corpus, min_count = 1, workers = 3, window = 5, sg = 1)"
   ]
  },
  {
   "cell_type": "code",
   "execution_count": 44,
   "id": "6eba765a",
   "metadata": {},
   "outputs": [],
   "source": [
    "import warnings\n",
    "warnings.filterwarnings('ignore')"
   ]
  },
  {
   "cell_type": "code",
   "execution_count": null,
   "id": "dd870cf2",
   "metadata": {},
   "outputs": [],
   "source": []
  },
  {
   "cell_type": "code",
   "execution_count": null,
   "id": "f8a6ff76",
   "metadata": {},
   "outputs": [],
   "source": []
  },
  {
   "cell_type": "code",
   "execution_count": null,
   "id": "a422b78a",
   "metadata": {},
   "outputs": [],
   "source": []
  }
 ],
 "metadata": {
  "kernelspec": {
   "display_name": "Python 3 (ipykernel)",
   "language": "python",
   "name": "python3"
  },
  "language_info": {
   "codemirror_mode": {
    "name": "ipython",
    "version": 3
   },
   "file_extension": ".py",
   "mimetype": "text/x-python",
   "name": "python",
   "nbconvert_exporter": "python",
   "pygments_lexer": "ipython3",
   "version": "3.9.13"
  }
 },
 "nbformat": 4,
 "nbformat_minor": 5
}
